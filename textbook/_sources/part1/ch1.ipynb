{
 "cells": [
  {
   "cell_type": "markdown",
   "id": "c20bffe2-d852-4b42-9c80-e43dbe8ebc45",
   "metadata": {},
   "source": [
    "# Introduction"
   ]
  },
  {
   "cell_type": "markdown",
   "id": "5942212f-37f3-418e-b3cb-d852552e32cc",
   "metadata": {},
   "source": [
    "In the first part of this book we will introduce the foundations of our topic.  \n",
    "\n",
    "## Overview\n",
    "\n",
    "What a grand adventure we have begun.\n",
    "\n",
    "```{code-block} python\n",
    ":caption: simple python code block\n",
    ":linenos:\n",
    "\n",
    "print(\"hello, world\")\n",
    "print(\"hello, world\")\n",
    "print(\"hello, world\")\n",
    "print(\"hello, world\")\n",
    "```\n",
    "\n",
    "${CODE1}\n"
   ]
  },
  {
   "cell_type": "code",
   "execution_count": 12,
   "id": "7be097d8-e9a2-4491-9e9e-ccf456698754",
   "metadata": {},
   "outputs": [],
   "source": [
    "run -i ../python/common.py"
   ]
  },
  {
   "cell_type": "code",
   "execution_count": 16,
   "id": "735df851-954d-4ebe-9846-6874bf2a14a0",
   "metadata": {},
   "outputs": [
    {
     "name": "stdout",
     "output_type": "stream",
     "text": [
      "\n",
      "``` {code-block} c\n",
      ":caption: simple c code\n",
      ":linenos: \n",
      "#include <sys/types.h>\n",
      "#include <unistd.h>\n",
      "#include <stdio.h>\n",
      "#include <stdlib.h>\n",
      "\n",
      "int\n",
      "main(int argc, char* argv[]) \n",
      "{\n",
      "  pid_t mypid, cpid, ppid;\n",
      "  cpid = fork();\n",
      "  ppid = getppid();\n",
      "  mypid = getpid();\n",
      "\n",
      "  if (cpid > 0) {\n",
      "    /* Parent code */ \n",
      "    printf(\"hello, from parent with pid %d, pid of child is %d\\n\", mypid, cpid);\n",
      "  } else if (cpid == 0) {\n",
      "    /* Child code */\n",
      "    printf(\"hello, I am child with pid %d, my parent is %d\\n\", mypid, ppid);\n",
      "  } else {\n",
      "    perror(\"fork failed\\n\");\n",
      "    exit(-1);\n",
      "  }\n",
      "  return 0;\n",
      "} \n",
      "```\n",
      "\n"
     ]
    }
   ],
   "source": [
    "def file_to_codeblock(file, lang, cap):\n",
    "    #open text file in read mode\n",
    "    text_file = open(file, \"r\")\n",
    "    #read whole file to a string\n",
    "    data = text_file.read()\n",
    "    md_text = '''\n",
    "``` {code-block} ''' + lang + '''\n",
    ":caption: ''' + cap + '''\n",
    ":linenos: ''' + '''\n",
    "''' + data + '''\n",
    "```\n",
    "'''\n",
    "    return md_text\n",
    "    \n",
    "    \n",
    "print(file_to_codeblock(\"testfork.c\", \"c\", \"simple c code\"))"
   ]
  },
  {
   "cell_type": "raw",
   "id": "e050db94-4f72-4e7a-9658-1e9a10ce0cd6",
   "metadata": {},
   "source": [
    "<pre>\n",
    "{{% include \"testfork.c\" %}}\n",
    "</pre>"
   ]
  },
  {
   "cell_type": "code",
   "execution_count": null,
   "id": "e1aad4dc-bc38-4ca7-81d6-fbe732bba843",
   "metadata": {},
   "outputs": [],
   "source": []
  },
  {
   "cell_type": "code",
   "execution_count": null,
   "id": "ed7ba464-b2b1-4c50-a645-065b81675671",
   "metadata": {},
   "outputs": [],
   "source": []
  }
 ],
 "metadata": {
  "kernelspec": {
   "display_name": "Python 3 (ipykernel)",
   "language": "python",
   "name": "python3"
  },
  "language_info": {
   "codemirror_mode": {
    "name": "ipython",
    "version": 3
   },
   "file_extension": ".py",
   "mimetype": "text/x-python",
   "name": "python",
   "nbconvert_exporter": "python",
   "pygments_lexer": "ipython3",
   "version": "3.10.5"
  }
 },
 "nbformat": 4,
 "nbformat_minor": 5
}
