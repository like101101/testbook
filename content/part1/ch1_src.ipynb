{
 "cells": [
  {
   "cell_type": "markdown",
   "id": "c20bffe2-d852-4b42-9c80-e43dbe8ebc45",
   "metadata": {},
   "source": [
    "# Introduction"
   ]
  },
  {
   "cell_type": "markdown",
   "id": "5942212f-37f3-418e-b3cb-d852552e32cc",
   "metadata": {},
   "source": [
    "In the first part of this book we will introduce the foundations of our topic.  \n",
    "\n",
    "## Overview\n",
    "\n",
    "What a grand adventure we have begun.\n",
    "\n",
    "```{code-block} python\n",
    ":caption: simple python code block\n",
    ":linenos:\n",
    "\n",
    "print(\"hello, world\")\n",
    "print(\"hello, world\")\n",
    "print(\"hello, world\")\n",
    "print(\"hello, world\")\n",
    "```\n",
    "\n",
    "${CODE1}\n"
   ]
  },
  {
   "cell_type": "code",
   "execution_count": null,
   "id": "e1aad4dc-bc38-4ca7-81d6-fbe732bba843",
   "metadata": {},
   "outputs": [],
   "source": []
  },
  {
   "cell_type": "code",
   "execution_count": null,
   "id": "ed7ba464-b2b1-4c50-a645-065b81675671",
   "metadata": {},
   "outputs": [],
   "source": []
  }
 ],
 "metadata": {
  "kernelspec": {
   "display_name": "Python 3 (ipykernel)",
   "language": "python",
   "name": "python3"
  },
  "language_info": {
   "codemirror_mode": {
    "name": "ipython",
    "version": 3
   },
   "file_extension": ".py",
   "mimetype": "text/x-python",
   "name": "python",
   "nbconvert_exporter": "python",
   "pygments_lexer": "ipython3",
   "version": "3.10.5"
  }
 },
 "nbformat": 4,
 "nbformat_minor": 5
}
