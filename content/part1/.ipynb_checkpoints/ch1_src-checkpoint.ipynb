{
 "cells": [
  {
   "cell_type": "markdown",
   "id": "c20bffe2-d852-4b42-9c80-e43dbe8ebc45",
   "metadata": {},
   "source": [
    "# Introduction"
   ]
  },
  {
   "cell_type": "markdown",
   "id": "5942212f-37f3-418e-b3cb-d852552e32cc",
   "metadata": {
    "tags": []
   },
   "source": [
    "In the first part of this book we will introduce the foundations of our topic.  \n",
    "\n",
    "## Overview\n",
    "\n",
    "What a grand adventure we have begun.\n",
    "\n",
    "```{code-block} python\n",
    ":caption: simple python code block\n",
    ":linenos:\n",
    "\n",
    "print(\"hello, world\")\n",
    "print(\"hello, world\")\n",
    "print(\"hello, world\")\n",
    "print(\"hello, world\")\n",
    "```\n",
    "\n",
    "Here is the example C code\n",
    "\n",
    "${TESTFORK}\n",
    "\n",
    "Here is another example C code\n",
    "\n",
    "${DOFORKE}"
   ]
  },
  {
   "cell_type": "code",
   "execution_count": null,
   "id": "37f23697-21f2-49eb-8272-1948bae4281b",
   "metadata": {},
   "outputs": [],
   "source": [
    "from IPython.display import HTML\n",
    "from markdown_it import MarkdownIt\n",
    "import mdit_py_plugins\n",
    "from mdit_py_plugins.front_matter import front_matter_plugin\n",
    "from mdit_py_plugins.footnote import footnote_plugin\n",
    "from mdit_py_plugins.myst_blocks import myst_block_plugin\n",
    "from mdit_py_plugins.myst_role import myst_role_plugin\n",
    "\n",
    "md = (\n",
    "    MarkdownIt()\n",
    "    .use(front_matter_plugin)\n",
    "    .use(footnote_plugin)\n",
    "    .use(myst_block_plugin)\n",
    "    .use(myst_role_plugin)\n",
    "    .enable('table')\n",
    ")\n",
    "\n",
    "text = (\"\"\"\n",
    "\n",
    "A footnote [^1]\n",
    "\n",
    "[^1]: some details\n",
    "\n",
    "```python\n",
    "\n",
    "print(\"hello\")\n",
    "```\n",
    "\n",
    "\"\"\")\n",
    "\n",
    "display(HTML(md.render(text)))\n",
    "\n"
   ]
  },
  {
   "cell_type": "code",
   "execution_count": null,
   "id": "80b8a35a-5e94-4f5f-9800-80c520c8ab8c",
   "metadata": {},
   "outputs": [],
   "source": []
  }
 ],
 "metadata": {
  "kernelspec": {
   "display_name": "Python 3 (ipykernel)",
   "language": "python",
   "name": "python3"
  },
  "language_info": {
   "codemirror_mode": {
    "name": "ipython",
    "version": 3
   },
   "file_extension": ".py",
   "mimetype": "text/x-python",
   "name": "python",
   "nbconvert_exporter": "python",
   "pygments_lexer": "ipython3",
   "version": "3.10.5"
  }
 },
 "nbformat": 4,
 "nbformat_minor": 5
}
